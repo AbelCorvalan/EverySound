{
 "cells": [
  {
   "cell_type": "markdown",
   "metadata": {},
   "source": [
    "# Filter Simulation\n",
    "\n",
    "Se realiza la automatización de una simulación de un filtro pasabajo."
   ]
  },
  {
   "cell_type": "code",
   "execution_count": 37,
   "metadata": {},
   "outputs": [],
   "source": [
    "from PyLTSpice import SimRunner, SpiceEditor, LTspice"
   ]
  },
  {
   "cell_type": "code",
   "execution_count": 40,
   "metadata": {},
   "outputs": [],
   "source": [
    "# Force another simulatior\n",
    "simulator = r\"/home/abel/.wine/drive_c/Program Files (x86)/LTC/LTspiceIV/sdca3.exe\"\n",
    "\n",
    "# select spice model\n",
    "LTC = SimRunner(output_folder='./temp')\n",
    "#LTC.create_netlist('./Low Pass Filter.asc')\n",
    "netlist = SpiceEditor('./Low Pass Filter.net')\n",
    "\n",
    "# set default arguments\n",
    "netlist.set_parameters(res=0, cap=100e-6)\n",
    "netlist.set_component_value('R1', '4k')\n",
    "netlist.set_component_value('C1', '100p')\n",
    "netlist.set_element_model('V1', \"SINE(0 1 10k 0 0 0)\")  # Modifying the\n",
    "netlist.add_instructions(\n",
    "    \"; Simulation settings\",\n",
    "    \";.param run = 0\"\n",
    ")\n",
    "netlist.set_parameter('run', 1)"
   ]
  }
 ],
 "metadata": {
  "kernelspec": {
   "display_name": "Python 3",
   "language": "python",
   "name": "python3"
  },
  "language_info": {
   "codemirror_mode": {
    "name": "ipython",
    "version": 3
   },
   "file_extension": ".py",
   "mimetype": "text/x-python",
   "name": "python",
   "nbconvert_exporter": "python",
   "pygments_lexer": "ipython3",
   "version": "3.10.12"
  }
 },
 "nbformat": 4,
 "nbformat_minor": 2
}
